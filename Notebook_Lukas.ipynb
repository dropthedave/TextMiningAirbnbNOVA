{
 "cells": [
  {
   "attachments": {},
   "cell_type": "markdown",
   "metadata": {},
   "source": [
    "# 1. Imports"
   ]
  },
  {
   "cell_type": "code",
   "execution_count": 2,
   "metadata": {},
   "outputs": [],
   "source": [
    "import pandas as pd\n",
    "import numpy as np\n",
    "import matplotlib.pyplot as plt\n",
    "import seaborn as sns\n",
    "import nltk\n",
    "import re"
   ]
  },
  {
   "attachments": {},
   "cell_type": "markdown",
   "metadata": {},
   "source": [
    "# 2. Load Data"
   ]
  },
  {
   "cell_type": "code",
   "execution_count": 2,
   "metadata": {},
   "outputs": [],
   "source": [
    "train = pd.read_excel('Data/train.xlsx', index_col='index')\n",
    "train_reviews = pd.read_excel('Data/train_reviews.xlsx', index_col='index')"
   ]
  },
  {
   "attachments": {},
   "cell_type": "markdown",
   "metadata": {},
   "source": [
    "# 3. Preprocessing (train.xlsx)"
   ]
  },
  {
   "cell_type": "code",
   "execution_count": 28,
   "metadata": {},
   "outputs": [],
   "source": [
    "def lowercase(df):\n",
    "    '''\n",
    "    lowercases all the text in the dataframe\n",
    "    '''\n",
    "    for col in df.columns:\n",
    "        df[col] = df[col].apply(lambda x: x.lower() if type(x) == str else x)\n",
    "    return df\n",
    "\n",
    "def general_regex(df):\n",
    "    '''\n",
    "    general regex cleaning steps\n",
    "    '''\n",
    "    # read in regex_patterns.json\n",
    "    regex_patterns = pd.read_json('regex_patterns_lukas.json').transpose().rename(columns={0:'new_value'})\n",
    "    for col in df.columns:\n",
    "        # remove html tags\n",
    "        df[col] = df[col].apply(lambda x: re.sub('<.*?>','',x) if type(x) == str else x)\n",
    "        # remove punctuation\n",
    "        df[col] = df[col].apply(lambda x: re.sub('[^\\w\\s]','',x) if type(x) == str else x)\n",
    "        # remove observed patterns listed \"regex_patterns.json\"\n",
    "        for pattern in regex_patterns.index:\n",
    "            df[col] = df[col].apply(lambda x: re.sub(f'{pattern}',f'{regex_patterns.loc[pattern][\"new_value\"]}',x) if type(x) == str else x)\n",
    "    return df"
   ]
  },
  {
   "cell_type": "code",
   "execution_count": 29,
   "metadata": {},
   "outputs": [
    {
     "data": {
      "text/html": [
       "<div>\n",
       "<style scoped>\n",
       "    .dataframe tbody tr th:only-of-type {\n",
       "        vertical-align: middle;\n",
       "    }\n",
       "\n",
       "    .dataframe tbody tr th {\n",
       "        vertical-align: top;\n",
       "    }\n",
       "\n",
       "    .dataframe thead th {\n",
       "        text-align: right;\n",
       "    }\n",
       "</style>\n",
       "<table border=\"1\" class=\"dataframe\">\n",
       "  <thead>\n",
       "    <tr style=\"text-align: right;\">\n",
       "      <th></th>\n",
       "      <th>description</th>\n",
       "      <th>host_about</th>\n",
       "      <th>unlisted</th>\n",
       "    </tr>\n",
       "    <tr>\n",
       "      <th>index</th>\n",
       "      <th></th>\n",
       "      <th></th>\n",
       "      <th></th>\n",
       "    </tr>\n",
       "  </thead>\n",
       "  <tbody>\n",
       "    <tr>\n",
       "      <th>1</th>\n",
       "      <td>this is a shared mixed room in our hostel with...</td>\n",
       "      <td>alojamento local registro 20835al</td>\n",
       "      <td>0</td>\n",
       "    </tr>\n",
       "    <tr>\n",
       "      <th>2</th>\n",
       "      <td>o meu espaço fica perto de parque eduardo vii ...</td>\n",
       "      <td>i am friendly host and i will try to always be...</td>\n",
       "      <td>1</td>\n",
       "    </tr>\n",
       "    <tr>\n",
       "      <th>3</th>\n",
       "      <td>trafarias house is a cozy and familiar villa w...</td>\n",
       "      <td>i am a social person liking to communicate rea...</td>\n",
       "      <td>1</td>\n",
       "    </tr>\n",
       "    <tr>\n",
       "      <th>4</th>\n",
       "      <td>apartamento charmoso no chiado entre o largo d...</td>\n",
       "      <td>hello\\ni m portuguese and i love to meet peopl...</td>\n",
       "      <td>0</td>\n",
       "    </tr>\n",
       "    <tr>\n",
       "      <th>5</th>\n",
       "      <td>joli appartement  en bordure de mer 2 min a pi...</td>\n",
       "      <td>nous sommes une famille avec deux enfants de 1...</td>\n",
       "      <td>0</td>\n",
       "    </tr>\n",
       "    <tr>\n",
       "      <th>...</th>\n",
       "      <td>...</td>\n",
       "      <td>...</td>\n",
       "      <td>...</td>\n",
       "    </tr>\n",
       "    <tr>\n",
       "      <th>12492</th>\n",
       "      <td>cats by bairro altothis cozy apartment in lisb...</td>\n",
       "      <td>travelling is one of my favorite hobbies ive a...</td>\n",
       "      <td>0</td>\n",
       "    </tr>\n",
       "    <tr>\n",
       "      <th>12493</th>\n",
       "      <td>beautifully located in the heart of lisbons hi...</td>\n",
       "      <td>founded by travel enthusiasts just like you bn...</td>\n",
       "      <td>0</td>\n",
       "    </tr>\n",
       "    <tr>\n",
       "      <th>12494</th>\n",
       "      <td>enjoy breakfast in the sleek kitchen with its ...</td>\n",
       "      <td>im from portugal and i love to dance and to tr...</td>\n",
       "      <td>0</td>\n",
       "    </tr>\n",
       "    <tr>\n",
       "      <th>12495</th>\n",
       "      <td>a terra da eira é uma casa de campo rodeada de...</td>\n",
       "      <td>somos uma familia de 5 gostamos de viajar e de...</td>\n",
       "      <td>1</td>\n",
       "    </tr>\n",
       "    <tr>\n",
       "      <th>12496</th>\n",
       "      <td>this brandnew apartment combines elegant charm...</td>\n",
       "      <td>we are a germanportuguese couple with a passio...</td>\n",
       "      <td>1</td>\n",
       "    </tr>\n",
       "  </tbody>\n",
       "</table>\n",
       "<p>12496 rows × 3 columns</p>\n",
       "</div>"
      ],
      "text/plain": [
       "                                             description   \n",
       "index                                                      \n",
       "1      this is a shared mixed room in our hostel with...  \\\n",
       "2      o meu espaço fica perto de parque eduardo vii ...   \n",
       "3      trafarias house is a cozy and familiar villa w...   \n",
       "4      apartamento charmoso no chiado entre o largo d...   \n",
       "5      joli appartement  en bordure de mer 2 min a pi...   \n",
       "...                                                  ...   \n",
       "12492  cats by bairro altothis cozy apartment in lisb...   \n",
       "12493  beautifully located in the heart of lisbons hi...   \n",
       "12494  enjoy breakfast in the sleek kitchen with its ...   \n",
       "12495  a terra da eira é uma casa de campo rodeada de...   \n",
       "12496  this brandnew apartment combines elegant charm...   \n",
       "\n",
       "                                              host_about  unlisted  \n",
       "index                                                               \n",
       "1                      alojamento local registro 20835al         0  \n",
       "2      i am friendly host and i will try to always be...         1  \n",
       "3      i am a social person liking to communicate rea...         1  \n",
       "4      hello\\ni m portuguese and i love to meet peopl...         0  \n",
       "5      nous sommes une famille avec deux enfants de 1...         0  \n",
       "...                                                  ...       ...  \n",
       "12492  travelling is one of my favorite hobbies ive a...         0  \n",
       "12493  founded by travel enthusiasts just like you bn...         0  \n",
       "12494  im from portugal and i love to dance and to tr...         0  \n",
       "12495  somos uma familia de 5 gostamos de viajar e de...         1  \n",
       "12496  we are a germanportuguese couple with a passio...         1  \n",
       "\n",
       "[12496 rows x 3 columns]"
      ]
     },
     "execution_count": 29,
     "metadata": {},
     "output_type": "execute_result"
    }
   ],
   "source": [
    "df = general_regex(lowercase(train))\n",
    "df"
   ]
  },
  {
   "cell_type": "code",
   "execution_count": 5,
   "metadata": {},
   "outputs": [],
   "source": [
    "regex_patterns = pd.read_json('regex_patterns_lukas.json').transpose().rename(columns={0:'new_value'})"
   ]
  },
  {
   "cell_type": "code",
   "execution_count": 6,
   "metadata": {},
   "outputs": [
    {
     "data": {
      "text/html": [
       "<div>\n",
       "<style scoped>\n",
       "    .dataframe tbody tr th:only-of-type {\n",
       "        vertical-align: middle;\n",
       "    }\n",
       "\n",
       "    .dataframe tbody tr th {\n",
       "        vertical-align: top;\n",
       "    }\n",
       "\n",
       "    .dataframe thead th {\n",
       "        text-align: right;\n",
       "    }\n",
       "</style>\n",
       "<table border=\"1\" class=\"dataframe\">\n",
       "  <thead>\n",
       "    <tr style=\"text-align: right;\">\n",
       "      <th></th>\n",
       "      <th>new_value</th>\n",
       "    </tr>\n",
       "  </thead>\n",
       "  <tbody>\n",
       "    <tr>\n",
       "      <th>_x005f_x000d_</th>\n",
       "      <td></td>\n",
       "    </tr>\n",
       "    <tr>\n",
       "      <th>_x000d_</th>\n",
       "      <td></td>\n",
       "    </tr>\n",
       "    <tr>\n",
       "      <th>m2</th>\n",
       "      <td>squaremeter</td>\n",
       "    </tr>\n",
       "    <tr>\n",
       "      <th>sm</th>\n",
       "      <td>squaremeter</td>\n",
       "    </tr>\n",
       "    <tr>\n",
       "      <th>sqm</th>\n",
       "      <td>squaremeter</td>\n",
       "    </tr>\n",
       "    <tr>\n",
       "      <th>m²</th>\n",
       "      <td>squaremeter</td>\n",
       "    </tr>\n",
       "    <tr>\n",
       "      <th>license[ number]+[0-9a-z]+</th>\n",
       "      <td></td>\n",
       "    </tr>\n",
       "    <tr>\n",
       "      <th>(\\b\\w)\\1+\\b</th>\n",
       "      <td></td>\n",
       "    </tr>\n",
       "  </tbody>\n",
       "</table>\n",
       "</div>"
      ],
      "text/plain": [
       "                              new_value\n",
       "_x005f_x000d_                          \n",
       "_x000d_                                \n",
       "m2                          squaremeter\n",
       "sm                          squaremeter\n",
       "sqm                         squaremeter\n",
       "m²                          squaremeter\n",
       "license[ number]+[0-9a-z]+             \n",
       "(\\b\\w)\\1+\\b                            "
      ]
     },
     "execution_count": 6,
     "metadata": {},
     "output_type": "execute_result"
    }
   ],
   "source": [
    "regex_patterns"
   ]
  },
  {
   "cell_type": "code",
   "execution_count": null,
   "metadata": {},
   "outputs": [],
   "source": []
  }
 ],
 "metadata": {
  "kernelspec": {
   "display_name": "nova",
   "language": "python",
   "name": "python3"
  },
  "language_info": {
   "codemirror_mode": {
    "name": "ipython",
    "version": 3
   },
   "file_extension": ".py",
   "mimetype": "text/x-python",
   "name": "python",
   "nbconvert_exporter": "python",
   "pygments_lexer": "ipython3",
   "version": "3.10.10"
  },
  "orig_nbformat": 4
 },
 "nbformat": 4,
 "nbformat_minor": 2
}
